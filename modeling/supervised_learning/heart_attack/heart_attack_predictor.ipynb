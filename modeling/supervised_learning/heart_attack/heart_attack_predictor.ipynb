{
 "cells": [
  {
   "cell_type": "code",
   "execution_count": 5,
   "metadata": {},
   "outputs": [
    {
     "output_type": "stream",
     "name": "stdout",
     "text": [
      "c:/raw_data/heart.csv\n"
     ]
    }
   ],
   "source": [
    "import os\n",
    "path_parent = os.getcwd()\n",
    "print(os.path.join(path_parent, r\"/raw_data/heart.csv\"))\n"
   ]
  },
  {
   "cell_type": "code",
   "execution_count": null,
   "metadata": {},
   "outputs": [],
   "source": [
    "fij"
   ]
  }
 ],
 "metadata": {
  "kernelspec": {
   "name": "python383jvsc74a57bd06d1e69c5e30e49b0566f5d9ae187b23694f98a9a7e5c861f80fb55e2ebc7a955",
   "display_name": "Python 3.8.3 64-bit ('py_crypto': conda)"
  }
 },
 "nbformat": 4,
 "nbformat_minor": 4
}