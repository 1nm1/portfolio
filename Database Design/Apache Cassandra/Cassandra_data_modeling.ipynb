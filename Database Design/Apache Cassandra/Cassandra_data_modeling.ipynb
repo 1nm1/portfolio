{
 "cells": [
  {
   "cell_type": "code",
   "execution_count": 1,
   "metadata": {
    "editable": true
   },
   "outputs": [],
   "source": [
    "# Import Python packages \n",
    "import pandas as pd\n",
    "import cassandra\n",
    "import re\n",
    "import os\n",
    "import glob\n",
    "import numpy as np\n",
    "import json\n",
    "import csv"
   ]
  },
  {
   "cell_type": "code",
   "execution_count": 2,
   "metadata": {
    "editable": true
   },
   "outputs": [
    {
     "name": "stdout",
     "output_type": "stream",
     "text": [
      "/home/workspace\n"
     ]
    }
   ],
   "source": [
    "# checking your current working directory\n",
    "print(os.getcwd())\n",
    "\n",
    "# Get your current folder and subfolder event data\n",
    "filepath = os.getcwd() + '/event_data'\n",
    "\n",
    "# Create a for loop to create a list of files and collect each filepath\n",
    "for root, dirs, files in os.walk(filepath):\n",
    "    \n",
    "# join the file path and roots with the subdirectories using glob\n",
    "    file_path_list = glob.glob(os.path.join(root,'*'))\n",
    "    #print(file_path_list)"
   ]
  },
  {
   "cell_type": "code",
   "execution_count": 3,
   "metadata": {
    "editable": true
   },
   "outputs": [
    {
     "name": "stdout",
     "output_type": "stream",
     "text": [
      "Total Number of Rows: 8056\n"
     ]
    }
   ],
   "source": [
    "# initiating an empty list of rows that will be generated from each file\n",
    "full_data_rows_list = [] \n",
    "    \n",
    "# for every filepath in the file path list \n",
    "for f in file_path_list:\n",
    "\n",
    "# reading csv file \n",
    "    with open(f, 'r', encoding = 'utf8', newline='') as csvfile: \n",
    "        # creating a csv reader object \n",
    "        csvreader = csv.reader(csvfile) \n",
    "        next(csvreader)\n",
    "        \n",
    " # extracting each data row one by one and append it        \n",
    "        for line in csvreader:\n",
    "            #print(line)\n",
    "            full_data_rows_list.append(line) \n",
    "            \n",
    "print(f\"Total Number of Rows: {len(full_data_rows_list)}\")\n",
    "\n",
    "# creating a smaller event data csv file called event_datafile_full csv that will be used to insert data into the Apache Cassandra tables\n",
    "csv.register_dialect('myDialect', quoting=csv.QUOTE_ALL, skipinitialspace=True)\n",
    "\n",
    "with open('event_datafile_new.csv', 'w', encoding = 'utf8', newline='') as f:\n",
    "    writer = csv.writer(f, dialect='myDialect')\n",
    "    writer.writerow(['artist','firstName','gender','itemInSession','lastName','length',\\\n",
    "                'level','location','sessionId','song','userId'])\n",
    "    for row in full_data_rows_list:\n",
    "        if (row[0] == ''):\n",
    "            continue\n",
    "        writer.writerow((row[0], row[2], row[3], row[4], row[5], row[6], row[7], row[8], row[12], row[13], row[16]))\n"
   ]
  },
  {
   "cell_type": "code",
   "execution_count": 4,
   "metadata": {
    "editable": true
   },
   "outputs": [
    {
     "name": "stdout",
     "output_type": "stream",
     "text": [
      "6821\n"
     ]
    }
   ],
   "source": [
    "# check the number of rows in csv file\n",
    "with open('event_datafile_new.csv', 'r', encoding = 'utf8') as f:\n",
    "    print(sum(1 for line in f))"
   ]
  },
  {
   "cell_type": "code",
   "execution_count": 4,
   "metadata": {
    "editable": true
   },
   "outputs": [
    {
     "name": "stdout",
     "output_type": "stream",
     "text": [
      "Cluster created\n"
     ]
    }
   ],
   "source": [
    "# Connection to a Cassandra on local machine \n",
    "\n",
    "from cassandra.cluster import Cluster\n",
    "import cassandra\n",
    "try:  \n",
    "    # Create Cassandra Cluster\n",
    "    cluster = Cluster(['127.0.0.1'])\n",
    "\n",
    "    # To establish connection and begin executing queries, need a session\n",
    "    session = cluster.connect()\n",
    "    print('Cluster created')\n",
    "except Exception as e:\n",
    "    print(e)"
   ]
  },
  {
   "cell_type": "code",
   "execution_count": 5,
   "metadata": {
    "editable": true
   },
   "outputs": [
    {
     "name": "stdout",
     "output_type": "stream",
     "text": [
      "Keyspace created\n"
     ]
    }
   ],
   "source": [
    "# Create a Keyspace \n",
    "try:\n",
    "    session.execute(\"\"\"\n",
    "    CREATE KEYSPACE IF NOT EXISTS udacity \n",
    "    WITH REPLICATION = \n",
    "    { 'class' : 'SimpleStrategy', 'replication_factor' : 1 }\"\"\"\n",
    "    )\n",
    "    print(\"Keyspace created\")\n",
    "except Exception as e:\n",
    "    print(e)"
   ]
  },
  {
   "cell_type": "code",
   "execution_count": 6,
   "metadata": {
    "editable": true
   },
   "outputs": [
    {
     "name": "stdout",
     "output_type": "stream",
     "text": [
      "Keyspace set\n"
     ]
    }
   ],
   "source": [
    "# Set KEYSPACE to the keyspace specified above\n",
    "try:\n",
    "    session.set_keyspace('udacity')\n",
    "    print(\"Keyspace set\")\n",
    "except Exception as e:\n",
    "    print(e)"
   ]
  },
  {
   "cell_type": "markdown",
   "metadata": {
    "editable": true
   },
   "source": [
    "## This file sets up the database to answer the following queries\n",
    "\n",
    "### 1. Give me the artist, song title and song's length in the music app history that was heard during  sessionId = 338, and itemInSession  = 4\n",
    "\n",
    "\n",
    "### 2. Give me only the following: name of artist, song (sorted by itemInSession) and user (first and last name) for userid = 10, sessionid = 182\n",
    "    \n",
    "\n",
    "### 3. Give me every user name (first and last) in my music app history who listened to the song 'All Hands Against His Own'\n",
    "\n",
    "\n"
   ]
  },
  {
   "cell_type": "code",
   "execution_count": 7,
   "metadata": {
    "editable": true
   },
   "outputs": [
    {
     "name": "stdout",
     "output_type": "stream",
     "text": [
      "<class 'pandas.core.frame.DataFrame'>\n",
      "RangeIndex: 6820 entries, 0 to 6819\n",
      "Data columns (total 11 columns):\n",
      "artist           6820 non-null object\n",
      "firstName        6820 non-null object\n",
      "gender           6820 non-null object\n",
      "itemInSession    6820 non-null int64\n",
      "lastName         6820 non-null object\n",
      "length           6820 non-null float64\n",
      "level            6820 non-null object\n",
      "location         6820 non-null object\n",
      "sessionId        6820 non-null int64\n",
      "song             6820 non-null object\n",
      "userId           6820 non-null int64\n",
      "dtypes: float64(1), int64(3), object(7)\n",
      "memory usage: 586.2+ KB\n",
      "None\n"
     ]
    }
   ],
   "source": [
    "# Exploring dataset\n",
    "import pandas as pd\n",
    "df = pd.read_csv(\"event_datafile_new.csv\")\n",
    "print(df.info(verbose=True))"
   ]
  },
  {
   "cell_type": "markdown",
   "metadata": {
    "editable": true
   },
   "source": [
    "Four cells per query:\n",
    "- Creation of table\n",
    "- Insertion of Data\n",
    "- Select statement against table showing data populated\n",
    "- Query statement against table (original question)"
   ]
  },
  {
   "cell_type": "markdown",
   "metadata": {
    "editable": true
   },
   "source": [
    "### QUERY 1: Creation of Table"
   ]
  },
  {
   "cell_type": "code",
   "execution_count": 77,
   "metadata": {
    "editable": true
   },
   "outputs": [
    {
     "name": "stdout",
     "output_type": "stream",
     "text": [
      "session_table created successfully\n"
     ]
    }
   ],
   "source": [
    "table_name_1 = \"session_table\"\n",
    "\n",
    "drop_session_table_query = f\"\"\"DROP TABLE IF EXISTS {table_name_1}\"\"\"\n",
    "\n",
    "create_session_table_query = f\"\"\"CREATE TABLE IF NOT EXISTS {table_name_1}\n",
    "        (sessionId int, \n",
    "         itemInSession int, \n",
    "         artist text, \n",
    "         song text, \n",
    "         length float, \n",
    "         PRIMARY KEY (sessionId, itemInSession)\n",
    "         )\n",
    "        \"\"\"\n",
    "\n",
    "try:\n",
    "    session.execute(drop_session_table_query)\n",
    "    session.execute(create_session_table_query)\n",
    "    print(f\"{table_name_1} created successfully\")\n",
    "    \n",
    "except Exception as e:\n",
    "    print(f\"[ERROR] Create Session Table Query: {e}\")\n",
    "                    "
   ]
  },
  {
   "cell_type": "markdown",
   "metadata": {
    "editable": true
   },
   "source": [
    "### QUERY 1: Insertion of Data"
   ]
  },
  {
   "cell_type": "code",
   "execution_count": 78,
   "metadata": {
    "editable": true
   },
   "outputs": [
    {
     "name": "stdout",
     "output_type": "stream",
     "text": [
      "session_table populated successfully\n"
     ]
    }
   ],
   "source": [
    "file = 'event_datafile_new.csv'\n",
    "\n",
    "with open(file, encoding = 'utf8') as f:\n",
    "    csvreader = csv.reader(f)\n",
    "    next(csvreader) # skip header\n",
    "    for line in csvreader:\n",
    "        query = f\"INSERT INTO {table_name_1} (sessionId, itemInSession, artist, song, length)\"\n",
    "        query = query + \"VALUES (%s, %s, %s, %s, %s)\"        \n",
    "        session.execute(query, (int(line[8]), int(line[3]), line[0], line[9], float(line[5])))\n",
    "        \n",
    "print(f\"{table_name_1} populated successfully\")"
   ]
  },
  {
   "cell_type": "markdown",
   "metadata": {
    "editable": true
   },
   "source": [
    "#### QUERY 1: Select statement to check table"
   ]
  },
  {
   "cell_type": "code",
   "execution_count": 79,
   "metadata": {
    "editable": true,
    "scrolled": true
   },
   "outputs": [
    {
     "name": "stdout",
     "output_type": "stream",
     "text": [
      "Row(sessionid=23, iteminsession=0, artist='Regina Spektor', length=191.08526611328125, song='The Calculation (Album Version)')\n",
      "Row(sessionid=23, iteminsession=1, artist='Octopus Project', length=250.95791625976562, song='All Of The Champs That Ever Lived')\n",
      "Row(sessionid=23, iteminsession=2, artist='Tegan And Sara', length=180.06158447265625, song='So Jealous')\n",
      "Row(sessionid=23, iteminsession=3, artist='Dragonette', length=153.39056396484375, song='Okay Dolores')\n",
      "Row(sessionid=23, iteminsession=4, artist='Lil Wayne / Eminem', length=229.58975219726562, song='Drop The World')\n",
      "Row(sessionid=23, iteminsession=5, artist=\"Soulja Boy Tell'em\", length=201.1162872314453, song='Let Me Get Em')\n",
      "Row(sessionid=23, iteminsession=6, artist='Bodo Wartke', length=645.2763061523438, song='Liebeslied (Sprachen: Deutsch_ Englisch_ FranzÃ\\x83Â¶sisch_ Italienisch_ Spanisch_ HollÃ\\x83Â¤ndisch_ Japanisch_ Russisch_ Griechisch_ Klingonisch_ Hessisch)')\n",
      "Row(sessionid=23, iteminsession=7, artist='Evanescence', length=237.11302185058594, song='Bring Me To Life')\n",
      "Row(sessionid=23, iteminsession=8, artist='Van Halen', length=243.1734161376953, song='Good Enough')\n",
      "Row(sessionid=23, iteminsession=9, artist='The Academy Is...', length=209.7628173828125, song='Paper Chase (Album Version)')\n"
     ]
    }
   ],
   "source": [
    "query = f\"SELECT * FROM {table_name_1} LIMIT 10\"\n",
    "\n",
    "try:\n",
    "    rows = session.execute(query)\n",
    "except Exception as e:\n",
    "    print(e)\n",
    "\n",
    "for row in rows:\n",
    "    print(row)\n"
   ]
  },
  {
   "cell_type": "markdown",
   "metadata": {
    "editable": true
   },
   "source": [
    "### Query 1: Answer to original Query / Question"
   ]
  },
  {
   "cell_type": "code",
   "execution_count": 80,
   "metadata": {
    "editable": true
   },
   "outputs": [
    {
     "name": "stdout",
     "output_type": "stream",
     "text": [
      "Faithless Music Matters (Mark Knight Dub) 495.30731201171875\n"
     ]
    }
   ],
   "source": [
    "# QUERY 1 ANSWER\n",
    "query = f\"SELECT artist, song, length from {table_name_1} WHERE sessionId = 338 AND itemInSession = 4\"\n",
    "try:\n",
    "    rows = session.execute(query)\n",
    "except Exception as e:\n",
    "    print(e)\n",
    "    \n",
    "for row in rows:\n",
    "    print (row.artist, row.song, row.length)"
   ]
  },
  {
   "cell_type": "markdown",
   "metadata": {
    "editable": true
   },
   "source": [
    "### QUERY 2: Creation of Table"
   ]
  },
  {
   "cell_type": "code",
   "execution_count": 81,
   "metadata": {
    "editable": true
   },
   "outputs": [
    {
     "name": "stdout",
     "output_type": "stream",
     "text": [
      "user_session created successfully\n"
     ]
    }
   ],
   "source": [
    "table_name_2 = \"user_session\"\n",
    "\n",
    "drop_user_session_query = f\"\"\"DROP TABLE IF EXISTS {table_name_2}\"\"\"\n",
    "\n",
    "create_user_session_query = f\"\"\"CREATE TABLE IF NOT EXISTS {table_name_2}\n",
    "        (userId int, \n",
    "         sessionId int, \n",
    "         artist text, \n",
    "         song text, \n",
    "         firstName text, \n",
    "         lastName text,\n",
    "         itemInSession int,\n",
    "         PRIMARY KEY ((userId, sessionId), itemInSession)\n",
    "         )\n",
    "        \"\"\"\n",
    "\n",
    "try:\n",
    "    session.execute(drop_user_session_query)\n",
    "    session.execute(create_user_session_query)\n",
    "    print(f\"{table_name_2} created successfully\")\n",
    "    \n",
    "except Exception as e:\n",
    "    print(f\"[ERROR] Create Session Table Query: {e}\")\n",
    "    "
   ]
  },
  {
   "cell_type": "markdown",
   "metadata": {
    "editable": true
   },
   "source": [
    "### QUERY 2: Insertion of Data"
   ]
  },
  {
   "cell_type": "code",
   "execution_count": 82,
   "metadata": {
    "editable": true
   },
   "outputs": [
    {
     "name": "stdout",
     "output_type": "stream",
     "text": [
      "user_session populated successfully\n"
     ]
    }
   ],
   "source": [
    "file = 'event_datafile_new.csv'\n",
    "\n",
    "with open(file, encoding = 'utf8') as f:\n",
    "    csvreader = csv.reader(f)\n",
    "    next(csvreader) # skip header\n",
    "    for line in csvreader:\n",
    "        query = f\"INSERT INTO {table_name_2} (userId, sessionId, artist, song, firstName, lastName, itemInSession)\"\n",
    "        query = query + \"VALUES (%s, %s, %s, %s, %s, %s, %s)\"\n",
    "        session.execute(query, (int(line[10]), int(line[8]), line[0], line[9], line[1], line[4], int(line[3])))\n",
    "        \n",
    "print(f\"{table_name_2} populated successfully\")"
   ]
  },
  {
   "cell_type": "markdown",
   "metadata": {
    "editable": true
   },
   "source": [
    "### QUERY 2: Select statement to check table"
   ]
  },
  {
   "cell_type": "code",
   "execution_count": 83,
   "metadata": {
    "editable": true
   },
   "outputs": [
    {
     "name": "stdout",
     "output_type": "stream",
     "text": [
      "Row(userid=58, sessionid=768, iteminsession=0, artist='System of a Down', firstname='Emily', lastname='Benson', song='Sad Statue')\n",
      "Row(userid=58, sessionid=768, iteminsession=1, artist='Ghostland Observatory', firstname='Emily', lastname='Benson', song='Stranger Lover')\n",
      "Row(userid=58, sessionid=768, iteminsession=2, artist='Evergreen Terrace', firstname='Emily', lastname='Benson', song='Zero')\n",
      "Row(userid=85, sessionid=776, iteminsession=2, artist='Deftones', firstname='Kinsley', lastname='Young', song='Head Up (LP Version)')\n",
      "Row(userid=85, sessionid=776, iteminsession=3, artist='The Notorious B.I.G.', firstname='Kinsley', lastname='Young', song='Playa Hater (Amended Version)')\n",
      "Row(userid=85, sessionid=776, iteminsession=4, artist='Orchestral Manoeuvres In The Dark', firstname='Kinsley', lastname='Young', song='Stay (The Black Rose And The Universal Wheel)')\n",
      "Row(userid=85, sessionid=776, iteminsession=5, artist='Vangelis', firstname='Kinsley', lastname='Young', song=\"Roxane's Veil\")\n",
      "Row(userid=85, sessionid=776, iteminsession=6, artist='Spandau Ballet', firstname='Kinsley', lastname='Young', song='TRUE')\n",
      "Row(userid=85, sessionid=776, iteminsession=8, artist='The Pussycat Dolls', firstname='Kinsley', lastname='Young', song=\"I'm Done\")\n",
      "Row(userid=85, sessionid=776, iteminsession=9, artist='The Hollies', firstname='Kinsley', lastname='Young', song=\"I'm Down\")\n"
     ]
    }
   ],
   "source": [
    "query = f\"SELECT * FROM {table_name_2} LIMIT 10\"\n",
    "\n",
    "try:\n",
    "    rows = session.execute(query)\n",
    "except Exception as e:\n",
    "    print(e)\n",
    "\n",
    "for row in rows:\n",
    "    print(row)"
   ]
  },
  {
   "cell_type": "markdown",
   "metadata": {
    "editable": true
   },
   "source": [
    "### Query 2: Answer to original Query / Question"
   ]
  },
  {
   "cell_type": "code",
   "execution_count": 84,
   "metadata": {
    "editable": true
   },
   "outputs": [
    {
     "name": "stdout",
     "output_type": "stream",
     "text": [
      "Down To The Bone Keep On Keepin' On Sylvie Cruz\n",
      "Three Drives Greece 2000 Sylvie Cruz\n",
      "Sebastien Tellier Kilometer Sylvie Cruz\n",
      "Lonnie Gordon Catch You Baby (Steve Pitron & Max Sanna Radio Edit) Sylvie Cruz\n"
     ]
    }
   ],
   "source": [
    "# QUERY 2 ANSWER\n",
    "query = f\"SELECT artist, song, firstname, lastname from {table_name_2} WHERE userId = 10 AND sessionId = 182\"\n",
    "try:\n",
    "    rows = session.execute(query)\n",
    "except Exception as e:\n",
    "    print(e)\n",
    "    \n",
    "for row in rows:\n",
    "    print (row.artist, row.song, row.firstname, row.lastname)"
   ]
  },
  {
   "cell_type": "markdown",
   "metadata": {
    "editable": true
   },
   "source": [
    "### QUERY 3: Creation of Table"
   ]
  },
  {
   "cell_type": "code",
   "execution_count": 85,
   "metadata": {
    "editable": true
   },
   "outputs": [
    {
     "name": "stdout",
     "output_type": "stream",
     "text": [
      "user_songs created successfully\n"
     ]
    }
   ],
   "source": [
    "table_name_3 = \"user_songs\"\n",
    "\n",
    "drop_user_songs_query = f\"\"\"DROP TABLE IF EXISTS {table_name_3}\"\"\"\n",
    "\n",
    "create_user_songs_query = f\"\"\"CREATE TABLE IF NOT EXISTS {table_name_3}\n",
    "        (sessionId int, \n",
    "         song text, \n",
    "         firstName text, \n",
    "         lastName text,\n",
    "         PRIMARY KEY (sessionId, song)\n",
    "         )\n",
    "        \"\"\"\n",
    "\n",
    "try:\n",
    "    session.execute(drop_user_songs_query)\n",
    "    session.execute(create_user_songs_query)\n",
    "    print(f\"{table_name_3} created successfully\")\n",
    "    \n",
    "except Exception as e:\n",
    "    print(f\"[ERROR] Create Session Table Query: {e}\")\n",
    "    \n"
   ]
  },
  {
   "cell_type": "markdown",
   "metadata": {
    "editable": true
   },
   "source": [
    "### QUERY 3: Insertion of Data"
   ]
  },
  {
   "cell_type": "code",
   "execution_count": 86,
   "metadata": {
    "editable": true
   },
   "outputs": [
    {
     "name": "stdout",
     "output_type": "stream",
     "text": [
      "user_songs populated successfully\n"
     ]
    }
   ],
   "source": [
    "file = 'event_datafile_new.csv'\n",
    "\n",
    "with open(file, encoding = 'utf8') as f:\n",
    "    csvreader = csv.reader(f)\n",
    "    next(csvreader) # skip header\n",
    "    for line in csvreader:\n",
    "        query = f\"INSERT INTO {table_name_3} (sessionId, song, firstName, lastName)\"\n",
    "        query = query + \"VALUES (%s, %s, %s, %s)\"\n",
    "        session.execute(query, (int(line[8]), line[9], line[1], line[4]))\n",
    "        \n",
    "print(f\"{table_name_3} populated successfully\")"
   ]
  },
  {
   "cell_type": "markdown",
   "metadata": {
    "editable": true
   },
   "source": [
    "### QUERY 3: Select statement to check table                    "
   ]
  },
  {
   "cell_type": "code",
   "execution_count": 87,
   "metadata": {
    "editable": true
   },
   "outputs": [
    {
     "name": "stdout",
     "output_type": "stream",
     "text": [
      "Row(sessionid=23, song='3AM (LP Version)', firstname='Layla', lastname='Griffin')\n",
      "Row(sessionid=23, song='All Of The Champs That Ever Lived', firstname='Layla', lastname='Griffin')\n",
      "Row(sessionid=23, song='Boadicea', firstname='Layla', lastname='Griffin')\n",
      "Row(sessionid=23, song='Bring Me To Life', firstname='Layla', lastname='Griffin')\n",
      "Row(sessionid=23, song=\"Do That There (featuring Dude 'N Nem)\", firstname='Layla', lastname='Griffin')\n",
      "Row(sessionid=23, song='Dragula', firstname='Layla', lastname='Griffin')\n",
      "Row(sessionid=23, song='Drop The World', firstname='Layla', lastname='Griffin')\n",
      "Row(sessionid=23, song='Fairy Tale', firstname='Layla', lastname='Griffin')\n",
      "Row(sessionid=23, song='Fearless', firstname='Layla', lastname='Griffin')\n",
      "Row(sessionid=23, song='Girl', firstname='Layla', lastname='Griffin')\n"
     ]
    }
   ],
   "source": [
    "query = f\"SELECT * FROM {table_name_3} LIMIT 10\"\n",
    "try:\n",
    "    rows = session.execute(query)\n",
    "except Exception as e:\n",
    "    print(e)\n",
    "\n",
    "for row in rows:\n",
    "    print(row)"
   ]
  },
  {
   "cell_type": "markdown",
   "metadata": {
    "editable": true
   },
   "source": [
    "### Query 3: Answer to original Query / Question"
   ]
  },
  {
   "cell_type": "code",
   "execution_count": 88,
   "metadata": {
    "editable": true
   },
   "outputs": [
    {
     "name": "stdout",
     "output_type": "stream",
     "text": [
      "Sara Johnson\n",
      "Tegan Levine\n",
      "Jacqueline Lynch\n"
     ]
    }
   ],
   "source": [
    "# QUERY 3 ANSWER\n",
    "query = f\"SELECT firstname, lastname from {table_name_3} WHERE song = 'All Hands Against His Own' ALLOW FILTERING\"\n",
    "try:\n",
    "    rows = session.execute(query)\n",
    "except Exception as e:\n",
    "    print(e)\n",
    "    \n",
    "for row in rows:\n",
    "    print (row.firstname, row.lastname)"
   ]
  },
  {
   "cell_type": "code",
   "execution_count": null,
   "metadata": {
    "editable": true
   },
   "outputs": [],
   "source": [
    "session.shutdown()\n",
    "cluster.shutdown()"
   ]
  }
 ],
 "metadata": {
  "kernelspec": {
   "display_name": "Python 3",
   "language": "python",
   "name": "python3"
  },
  "language_info": {
   "codemirror_mode": {
    "name": "ipython",
    "version": 3
   },
   "file_extension": ".py",
   "mimetype": "text/x-python",
   "name": "python",
   "nbconvert_exporter": "python",
   "pygments_lexer": "ipython3",
   "version": "3.6.3"
  }
 },
 "nbformat": 4,
 "nbformat_minor": 4
}